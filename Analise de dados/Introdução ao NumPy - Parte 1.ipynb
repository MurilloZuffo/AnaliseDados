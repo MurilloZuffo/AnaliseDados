{
 "cells": [
  {
   "cell_type": "markdown",
   "id": "cbe54dbe",
   "metadata": {},
   "source": [
    "# NumPy\n",
    "\n",
    "- https://numpy.org/\n",
    "- O nome NumPy vem de Numerical Python\n",
    "    - Biblioteca de computação numérica\n",
    "    - Otimizada para cálculos pesados\n",
    "<br><br>\n",
    "- No NumPy vamos trabalhar com **arrays**, que são mais rápidos e mais performáticos que listas\n",
    "    - Arrays são estruturas de dados que guardam itens **do mesmo tipo** (diferente das listas)\n",
    "        - **[\"As operações matemáticas que devem ser executadas em arrays seriam extremamente ineficientes se os arrays não fossem homogêneos.\"](https://numpy.org/doc/stable/user/absolute_beginners.html#whats-the-difference-between-a-python-list-and-a-numpy-array)** \n",
    "    - Assim como **listas**, são um conjunto de **elementos ordenados que são mutáveis e de comprimento variável**\n",
    "    - Além disso, **podemos fazer várias operações com arrays (como multiplicação e soma) que não podem ser feitas com listas** mas são fundamentais para o nosso processo de Ciência de dados\n",
    "    - Obs: listas são estrutudas de dados do Python e arrays não, **array é uma estrutura de dados própria do numpy**"
   ]
  },
  {
   "cell_type": "code",
   "execution_count": 1,
   "id": "078ff977",
   "metadata": {},
   "outputs": [],
   "source": [
    "# Importar o numpy\n",
    "import numpy as np"
   ]
  },
  {
   "cell_type": "markdown",
   "id": "226f7654",
   "metadata": {},
   "source": [
    "- **A importância do NumPy**\n",
    "    - Vamos supor que temos a venda e comissão (em percentual) de 5 vendedores e queremos saber qual vai ser o salário de cada um deles (para isso precisamos multiplicar a venda pela comissão dividida por 100)"
   ]
  },
  {
   "cell_type": "code",
   "execution_count": 2,
   "id": "8754825c",
   "metadata": {},
   "outputs": [],
   "source": [
    "# Venda e comissão\n",
    "venda_valor = [150000,230000,82000,143000,184000]\n",
    "comissao = [5,8,8,5,12]"
   ]
  },
  {
   "cell_type": "code",
   "execution_count": 3,
   "id": "1d3c3c87",
   "metadata": {},
   "outputs": [
    {
     "data": {
      "text/plain": [
       "list"
      ]
     },
     "execution_count": 3,
     "metadata": {},
     "output_type": "execute_result"
    }
   ],
   "source": [
    "# Qual o tipo desse dado?\n",
    "\n",
    "type(venda_valor)"
   ]
  },
  {
   "cell_type": "code",
   "execution_count": 4,
   "id": "f810a712",
   "metadata": {},
   "outputs": [],
   "source": [
    "# Ao tentar fazer essa operação com listas, teremos um erro\n",
    "#venda_valor*comissao"
   ]
  },
  {
   "cell_type": "markdown",
   "id": "1c54d151",
   "metadata": {},
   "source": [
    "- **Podemos transformar uma lista em um array**\n",
    "    - https://numpy.org/doc/stable/user/basics.creation.html#converting-python-sequences-to-numpy-arrays"
   ]
  },
  {
   "cell_type": "code",
   "execution_count": 5,
   "id": "81559353",
   "metadata": {},
   "outputs": [],
   "source": [
    "# Transformando em um array\n",
    "vendaValorArray = np.array(venda_valor)\n",
    "comissaoArray = np.array(comissao)\n"
   ]
  },
  {
   "cell_type": "code",
   "execution_count": 6,
   "id": "b2aac566",
   "metadata": {},
   "outputs": [
    {
     "data": {
      "text/plain": [
       "array([ 7500., 18400.,  6560.,  7150., 22080.])"
      ]
     },
     "execution_count": 6,
     "metadata": {},
     "output_type": "execute_result"
    }
   ],
   "source": [
    "# Agora vamos conseguir fazer sendo um array\n",
    "\n",
    "vendaValorArray*(comissaoArray/100)"
   ]
  },
  {
   "cell_type": "markdown",
   "id": "c2707ec8",
   "metadata": {},
   "source": [
    "- **Agora que vimos a importância do array, podemos falar um pouco mais sobre ele**\n",
    "    - https://numpy.org/doc/stable/user/quickstart.html"
   ]
  },
  {
   "cell_type": "code",
   "execution_count": 7,
   "id": "3484167f",
   "metadata": {},
   "outputs": [],
   "source": [
    "# Copiando o exemplo\n",
    "\n",
    "a = np.arange(15).reshape(3, 5)"
   ]
  },
  {
   "cell_type": "code",
   "execution_count": 8,
   "id": "95c66c62",
   "metadata": {},
   "outputs": [
    {
     "data": {
      "text/plain": [
       "array([[ 0,  1,  2,  3,  4],\n",
       "       [ 5,  6,  7,  8,  9],\n",
       "       [10, 11, 12, 13, 14]])"
      ]
     },
     "execution_count": 8,
     "metadata": {},
     "output_type": "execute_result"
    }
   ],
   "source": [
    "# Verificando a dimensão desse array\n",
    "a"
   ]
  },
  {
   "cell_type": "code",
   "execution_count": 9,
   "id": "29fc055b",
   "metadata": {},
   "outputs": [
    {
     "data": {
      "text/plain": [
       "(3, 5)"
      ]
     },
     "execution_count": 9,
     "metadata": {},
     "output_type": "execute_result"
    }
   ],
   "source": [
    "# Verificando a forma do array\n",
    "\n",
    "a.shape\n"
   ]
  },
  {
   "cell_type": "code",
   "execution_count": 10,
   "id": "57278b73",
   "metadata": {},
   "outputs": [
    {
     "data": {
      "text/plain": [
       "dtype('int32')"
      ]
     },
     "execution_count": 10,
     "metadata": {},
     "output_type": "execute_result"
    }
   ],
   "source": [
    "# Verificando o tipo dos dados\n",
    "\n",
    "a.dtype"
   ]
  },
  {
   "cell_type": "markdown",
   "id": "4e37c0f8",
   "metadata": {},
   "source": [
    "- Primeiro tente responder o tipo de dado dos 3 arrays abaixo e depois escreva o código para o numpy retornar essa informação"
   ]
  },
  {
   "cell_type": "code",
   "execution_count": 11,
   "id": "d1b1bd6b",
   "metadata": {},
   "outputs": [],
   "source": [
    "# Considerando os 3 arrays abaixo\n",
    "array1 = np.array([1,2,3,4,5])\n",
    "array2 = np.array([1,2,3,4.5,5])\n",
    "array3 = np.array([1,2,3,'4',5])"
   ]
  },
  {
   "cell_type": "code",
   "execution_count": 12,
   "id": "a275108c",
   "metadata": {},
   "outputs": [
    {
     "data": {
      "text/plain": [
       "dtype('int32')"
      ]
     },
     "execution_count": 12,
     "metadata": {},
     "output_type": "execute_result"
    }
   ],
   "source": [
    "# Verificando o tipo de dado do primeiro array e retornando esse array\n",
    "\n",
    "array1.dtype\n",
    "\n"
   ]
  },
  {
   "cell_type": "code",
   "execution_count": 13,
   "id": "e4e3e351",
   "metadata": {},
   "outputs": [
    {
     "data": {
      "text/plain": [
       "dtype('float64')"
      ]
     },
     "execution_count": 13,
     "metadata": {},
     "output_type": "execute_result"
    }
   ],
   "source": [
    "# Fazendo a mesma coisa para o array2\n",
    "array2.dtype"
   ]
  },
  {
   "cell_type": "code",
   "execution_count": 14,
   "id": "c28cd3a6",
   "metadata": {},
   "outputs": [
    {
     "data": {
      "text/plain": [
       "dtype('<U11')"
      ]
     },
     "execution_count": 14,
     "metadata": {},
     "output_type": "execute_result"
    }
   ],
   "source": [
    "# E para o array3\n",
    "array3.dtype"
   ]
  },
  {
   "cell_type": "markdown",
   "id": "a1bf3819",
   "metadata": {},
   "source": [
    "- **Criando o nosso próprio array**"
   ]
  },
  {
   "cell_type": "code",
   "execution_count": 15,
   "id": "b440b3d8",
   "metadata": {},
   "outputs": [
    {
     "data": {
      "text/plain": [
       "array([1, 2, 3, 4, 5])"
      ]
     },
     "execution_count": 15,
     "metadata": {},
     "output_type": "execute_result"
    }
   ],
   "source": [
    "# Criando um array qualquer de números inteiros\n",
    "\n",
    "a=np.array([1,2,3,4,5])\n",
    "a"
   ]
  },
  {
   "cell_type": "code",
   "execution_count": 16,
   "id": "10c99628",
   "metadata": {},
   "outputs": [
    {
     "data": {
      "text/plain": [
       "dtype('float64')"
      ]
     },
     "execution_count": 16,
     "metadata": {},
     "output_type": "execute_result"
    }
   ],
   "source": [
    "# Criando um segundo array com valores decimais\n",
    "b =np.array([1.0,2.0,3.0,4.0,5.0])\n",
    "b.dtype\n"
   ]
  },
  {
   "cell_type": "code",
   "execution_count": 17,
   "id": "fafac33f",
   "metadata": {},
   "outputs": [
    {
     "data": {
      "text/plain": [
       "array([[0., 0., 0., 0.],\n",
       "       [0., 0., 0., 0.]])"
      ]
     },
     "execution_count": 17,
     "metadata": {},
     "output_type": "execute_result"
    }
   ],
   "source": [
    "# Criando um array apenas de valores zero\n",
    "np.zeros(8).reshape(2,4)"
   ]
  },
  {
   "cell_type": "code",
   "execution_count": 18,
   "id": "1e8b7354",
   "metadata": {},
   "outputs": [
    {
     "data": {
      "text/plain": [
       "array([  0,   1,   2,   3,   4,   5,   6,   7,   8,   9,  10,  11,  12,\n",
       "        13,  14,  15,  16,  17,  18,  19,  20,  21,  22,  23,  24,  25,\n",
       "        26,  27,  28,  29,  30,  31,  32,  33,  34,  35,  36,  37,  38,\n",
       "        39,  40,  41,  42,  43,  44,  45,  46,  47,  48,  49,  50,  51,\n",
       "        52,  53,  54,  55,  56,  57,  58,  59,  60,  61,  62,  63,  64,\n",
       "        65,  66,  67,  68,  69,  70,  71,  72,  73,  74,  75,  76,  77,\n",
       "        78,  79,  80,  81,  82,  83,  84,  85,  86,  87,  88,  89,  90,\n",
       "        91,  92,  93,  94,  95,  96,  97,  98,  99, 100])"
      ]
     },
     "execution_count": 18,
     "metadata": {},
     "output_type": "execute_result"
    }
   ],
   "source": [
    "# Criando um array com uma lista de valores\n",
    "np.arange(101)"
   ]
  },
  {
   "cell_type": "code",
   "execution_count": 19,
   "id": "23b28960",
   "metadata": {},
   "outputs": [
    {
     "data": {
      "text/plain": [
       "array([ 25,  26,  27,  28,  29,  30,  31,  32,  33,  34,  35,  36,  37,\n",
       "        38,  39,  40,  41,  42,  43,  44,  45,  46,  47,  48,  49,  50,\n",
       "        51,  52,  53,  54,  55,  56,  57,  58,  59,  60,  61,  62,  63,\n",
       "        64,  65,  66,  67,  68,  69,  70,  71,  72,  73,  74,  75,  76,\n",
       "        77,  78,  79,  80,  81,  82,  83,  84,  85,  86,  87,  88,  89,\n",
       "        90,  91,  92,  93,  94,  95,  96,  97,  98,  99, 100])"
      ]
     },
     "execution_count": 19,
     "metadata": {},
     "output_type": "execute_result"
    }
   ],
   "source": [
    "# Adicionando um intervalo para o array\n",
    "np.arange(25,101)"
   ]
  },
  {
   "cell_type": "code",
   "execution_count": 20,
   "id": "360ad873",
   "metadata": {},
   "outputs": [
    {
     "data": {
      "text/plain": [
       "array([  0,   2,   4,   6,   8,  10,  12,  14,  16,  18,  20,  22,  24,\n",
       "        26,  28,  30,  32,  34,  36,  38,  40,  42,  44,  46,  48,  50,\n",
       "        52,  54,  56,  58,  60,  62,  64,  66,  68,  70,  72,  74,  76,\n",
       "        78,  80,  82,  84,  86,  88,  90,  92,  94,  96,  98, 100])"
      ]
     },
     "execution_count": 20,
     "metadata": {},
     "output_type": "execute_result"
    }
   ],
   "source": [
    "# Adicionando um \"passo\" para o array\n",
    "np.arange(0,101,2)"
   ]
  },
  {
   "cell_type": "code",
   "execution_count": 21,
   "id": "4b65af4e",
   "metadata": {},
   "outputs": [
    {
     "data": {
      "text/plain": [
       "array([ 5.        ,  6.66666667,  8.33333333, 10.        , 11.66666667,\n",
       "       13.33333333, 15.        , 16.66666667, 18.33333333, 20.        ])"
      ]
     },
     "execution_count": 21,
     "metadata": {},
     "output_type": "execute_result"
    }
   ],
   "source": [
    "# Criando um novo array com os valores igualmente espaçados (utilizando o linspace)\n",
    "\n",
    "np.linspace(5,20,10)"
   ]
  },
  {
   "cell_type": "markdown",
   "id": "a47a3b02",
   "metadata": {},
   "source": [
    "- O array de uma dimensão é o que chamamos de vetor e o de duas dimensões de matriz"
   ]
  },
  {
   "cell_type": "code",
   "execution_count": 22,
   "id": "fdcb1780",
   "metadata": {},
   "outputs": [],
   "source": [
    "# Vamos considerar esses dados abaixo\n",
    "dados_venda = np.array([[150000,230000,82000,143000,184000],[5,8,8,5,12]])"
   ]
  },
  {
   "cell_type": "code",
   "execution_count": 23,
   "id": "41c4258a",
   "metadata": {},
   "outputs": [
    {
     "data": {
      "text/plain": [
       "(2, 5)"
      ]
     },
     "execution_count": 23,
     "metadata": {},
     "output_type": "execute_result"
    }
   ],
   "source": [
    "# Verificando a forma do array\n",
    "dados_venda.shape"
   ]
  },
  {
   "cell_type": "code",
   "execution_count": 24,
   "id": "6474e750",
   "metadata": {},
   "outputs": [
    {
     "data": {
      "text/plain": [
       "dtype('int32')"
      ]
     },
     "execution_count": 24,
     "metadata": {},
     "output_type": "execute_result"
    }
   ],
   "source": [
    "# Verificando o tipo dos dados\n",
    "dados_venda.dtype"
   ]
  },
  {
   "cell_type": "code",
   "execution_count": 25,
   "id": "a68a8225",
   "metadata": {},
   "outputs": [],
   "source": [
    "# Agora considerando esses novos dados\n",
    "dados_venda = np.array([['Lucas','Bia','Jean','Gabi','Pedro'],[150000,230000,82000,143000,184000]])"
   ]
  },
  {
   "cell_type": "code",
   "execution_count": 26,
   "id": "5d5c22be",
   "metadata": {},
   "outputs": [
    {
     "data": {
      "text/plain": [
       "(2, 5)"
      ]
     },
     "execution_count": 26,
     "metadata": {},
     "output_type": "execute_result"
    }
   ],
   "source": [
    "# Verificando a forma do array\n",
    "dados_venda.shape"
   ]
  },
  {
   "cell_type": "code",
   "execution_count": 27,
   "id": "c0492e67",
   "metadata": {},
   "outputs": [
    {
     "data": {
      "text/plain": [
       "dtype('<U11')"
      ]
     },
     "execution_count": 27,
     "metadata": {},
     "output_type": "execute_result"
    }
   ],
   "source": [
    "# Verificando o tipo dos dados\n",
    "dados_venda.dtype"
   ]
  },
  {
   "cell_type": "markdown",
   "id": "a8c53096",
   "metadata": {},
   "source": [
    "- **Assim como listas, também podemos buscar elementos no array utilizando seus índices**\n",
    "    - https://numpy.org/doc/stable/user/basics.indexing.html"
   ]
  },
  {
   "cell_type": "code",
   "execution_count": 28,
   "id": "edd44c5e",
   "metadata": {},
   "outputs": [
    {
     "data": {
      "text/plain": [
       "array([[ 0,  1,  2,  3,  4],\n",
       "       [ 5,  6,  7,  8,  9],\n",
       "       [10, 11, 12, 13, 14]])"
      ]
     },
     "execution_count": 28,
     "metadata": {},
     "output_type": "execute_result"
    }
   ],
   "source": [
    "# Utilizando o mesmo array do exemplo\n",
    "a = np.arange(15).reshape(3, 5)\n",
    "a"
   ]
  },
  {
   "cell_type": "code",
   "execution_count": 29,
   "id": "998f525b",
   "metadata": {},
   "outputs": [
    {
     "data": {
      "text/plain": [
       "array([0, 1, 2, 3, 4])"
      ]
     },
     "execution_count": 29,
     "metadata": {},
     "output_type": "execute_result"
    }
   ],
   "source": [
    "# Buscando a primeira linha\n",
    "a[0]"
   ]
  },
  {
   "cell_type": "code",
   "execution_count": 30,
   "id": "c81c8bb0",
   "metadata": {},
   "outputs": [
    {
     "data": {
      "text/plain": [
       "3"
      ]
     },
     "execution_count": 30,
     "metadata": {},
     "output_type": "execute_result"
    }
   ],
   "source": [
    "# Na primeira linha, buscando o elemento de índice 3\n",
    "a[0][3]"
   ]
  },
  {
   "cell_type": "code",
   "execution_count": 31,
   "id": "402d83ff",
   "metadata": {},
   "outputs": [
    {
     "data": {
      "text/plain": [
       "array([1, 2, 3])"
      ]
     },
     "execution_count": 31,
     "metadata": {},
     "output_type": "execute_result"
    }
   ],
   "source": [
    "# Buscando os elementos de índice 1 a 3 (incluindo o 3) na primeira linha\n",
    "a[0][1:4]"
   ]
  },
  {
   "cell_type": "code",
   "execution_count": 32,
   "id": "0ff75932",
   "metadata": {},
   "outputs": [
    {
     "data": {
      "text/plain": [
       "array([ 6,  7,  8,  9, 10, 11, 12, 13, 14])"
      ]
     },
     "execution_count": 32,
     "metadata": {},
     "output_type": "execute_result"
    }
   ],
   "source": [
    "# Buscando apenas os valores maiores que 5\n",
    "a[a>5]"
   ]
  },
  {
   "cell_type": "code",
   "execution_count": 33,
   "id": "7c48720c",
   "metadata": {},
   "outputs": [],
   "source": [
    "# Buscando valores maiores que 5 E (&) menores que 11\n",
    "novoArray = a[(a>5)&(a<11)]"
   ]
  },
  {
   "cell_type": "code",
   "execution_count": 34,
   "id": "0e215ed4",
   "metadata": {},
   "outputs": [
    {
     "data": {
      "text/plain": [
       "array([ 6,  7,  8,  9, 10])"
      ]
     },
     "execution_count": 34,
     "metadata": {},
     "output_type": "execute_result"
    }
   ],
   "source": [
    "# Visualizando o array\n",
    "novoArray"
   ]
  },
  {
   "cell_type": "markdown",
   "id": "8d99e3c2",
   "metadata": {},
   "source": [
    "- **Operações com array**\n",
    "    - https://numpy.org/doc/stable/user/absolute_beginners.html#basic-array-operations"
   ]
  },
  {
   "cell_type": "code",
   "execution_count": 35,
   "id": "71e2b9b1",
   "metadata": {},
   "outputs": [],
   "source": [
    "# Considerando o array abaixo\n",
    "dados = np.arange(6).reshape(2, 3)"
   ]
  },
  {
   "cell_type": "code",
   "execution_count": 51,
   "id": "f8e05afa",
   "metadata": {},
   "outputs": [
    {
     "data": {
      "text/plain": [
       "15"
      ]
     },
     "execution_count": 51,
     "metadata": {},
     "output_type": "execute_result"
    }
   ],
   "source": [
    "# Somando todos os valores\n",
    "dados.sum()"
   ]
  },
  {
   "cell_type": "code",
   "execution_count": 52,
   "id": "b371e2dc",
   "metadata": {},
   "outputs": [
    {
     "data": {
      "text/plain": [
       "array([ 3, 12])"
      ]
     },
     "execution_count": 52,
     "metadata": {},
     "output_type": "execute_result"
    }
   ],
   "source": [
    "# Somando apenas os valores da linha\n",
    "dados.sum(axis=1)"
   ]
  },
  {
   "cell_type": "code",
   "execution_count": 53,
   "id": "7109accf",
   "metadata": {},
   "outputs": [
    {
     "data": {
      "text/plain": [
       "array([[ 0,  1,  3],\n",
       "       [ 3,  7, 12]])"
      ]
     },
     "execution_count": 53,
     "metadata": {},
     "output_type": "execute_result"
    }
   ],
   "source": [
    "# Fazendo a soma acumulada desses valores\n",
    "dados.cumsum(axis=1)"
   ]
  },
  {
   "cell_type": "code",
   "execution_count": 54,
   "id": "4366521b",
   "metadata": {},
   "outputs": [
    {
     "data": {
      "text/plain": [
       "array([3, 5, 7])"
      ]
     },
     "execution_count": 54,
     "metadata": {},
     "output_type": "execute_result"
    }
   ],
   "source": [
    "# Somando apenas os valores da coluna\n",
    "dados.sum(axis=0)"
   ]
  },
  {
   "cell_type": "code",
   "execution_count": 55,
   "id": "bfecf6a3",
   "metadata": {},
   "outputs": [
    {
     "data": {
      "text/plain": [
       "array([[1, 2, 3],\n",
       "       [4, 5, 6]])"
      ]
     },
     "execution_count": 55,
     "metadata": {},
     "output_type": "execute_result"
    }
   ],
   "source": [
    "# Somando 1 em todos os valores\n",
    "dados+1"
   ]
  },
  {
   "cell_type": "code",
   "execution_count": 56,
   "id": "46a16173",
   "metadata": {},
   "outputs": [
    {
     "data": {
      "text/plain": [
       "array([[ 0,  2,  4],\n",
       "       [ 6,  8, 10]])"
      ]
     },
     "execution_count": 56,
     "metadata": {},
     "output_type": "execute_result"
    }
   ],
   "source": [
    "# Multiplicando 2 em todos os valores do array\n",
    "dados*2"
   ]
  },
  {
   "cell_type": "code",
   "execution_count": 59,
   "id": "81e15b45",
   "metadata": {},
   "outputs": [
    {
     "data": {
      "text/plain": [
       "array([0, 3])"
      ]
     },
     "execution_count": 59,
     "metadata": {},
     "output_type": "execute_result"
    }
   ],
   "source": [
    "# Verificando o menor valor desse array\n",
    "dados.min()\n",
    "dados.min(axis=1)\n",
    "\n"
   ]
  },
  {
   "cell_type": "code",
   "execution_count": 60,
   "id": "dec34494",
   "metadata": {},
   "outputs": [
    {
     "data": {
      "text/plain": [
       "5"
      ]
     },
     "execution_count": 60,
     "metadata": {},
     "output_type": "execute_result"
    }
   ],
   "source": [
    "# E agora o maior valor\n",
    "dados.max()"
   ]
  },
  {
   "cell_type": "code",
   "execution_count": 64,
   "id": "4b31412c",
   "metadata": {},
   "outputs": [
    {
     "data": {
      "text/plain": [
       "array([1., 4.])"
      ]
     },
     "execution_count": 64,
     "metadata": {},
     "output_type": "execute_result"
    }
   ],
   "source": [
    "# Calculando a média da primeira linha\n",
    "dados.mean(axis=1)"
   ]
  },
  {
   "cell_type": "code",
   "execution_count": 66,
   "id": "f8711d6e",
   "metadata": {},
   "outputs": [
    {
     "data": {
      "text/plain": [
       "4.0"
      ]
     },
     "execution_count": 66,
     "metadata": {},
     "output_type": "execute_result"
    }
   ],
   "source": [
    "# E da segunda linha\n",
    "dados[1].mean()"
   ]
  },
  {
   "cell_type": "code",
   "execution_count": 68,
   "id": "265d2435",
   "metadata": {},
   "outputs": [
    {
     "data": {
      "text/plain": [
       "2.5"
      ]
     },
     "execution_count": 68,
     "metadata": {},
     "output_type": "execute_result"
    }
   ],
   "source": [
    "# Verificando a mediana\n",
    "np.median(dados)"
   ]
  },
  {
   "cell_type": "markdown",
   "id": "023801ee",
   "metadata": {},
   "source": [
    "- Inclusive podemos fazer operação entre arrays"
   ]
  },
  {
   "cell_type": "code",
   "execution_count": 47,
   "id": "71607bc8",
   "metadata": {},
   "outputs": [],
   "source": [
    "# Considerando esses 2 arrays\n",
    "array1 = np.array([1,2,3,4,5])\n",
    "array2 = np.array([7,8,9,10,11])"
   ]
  },
  {
   "cell_type": "code",
   "execution_count": 69,
   "id": "7b4edcc9",
   "metadata": {},
   "outputs": [
    {
     "data": {
      "text/plain": [
       "array([ 8, 10, 12, 14, 16])"
      ]
     },
     "execution_count": 69,
     "metadata": {},
     "output_type": "execute_result"
    }
   ],
   "source": [
    "# Somando os arrays\n",
    "array1+array2"
   ]
  },
  {
   "cell_type": "code",
   "execution_count": 70,
   "id": "64569bf4",
   "metadata": {},
   "outputs": [
    {
     "data": {
      "text/plain": [
       "array([ 7, 16, 27, 40, 55])"
      ]
     },
     "execution_count": 70,
     "metadata": {},
     "output_type": "execute_result"
    }
   ],
   "source": [
    "# Multiplicando esses arrays\n",
    "array1*array2"
   ]
  },
  {
   "cell_type": "code",
   "execution_count": 72,
   "id": "f00305ec",
   "metadata": {},
   "outputs": [
    {
     "data": {
      "text/plain": [
       "array([     7,     64,    729,  10000, 161051])"
      ]
     },
     "execution_count": 72,
     "metadata": {},
     "output_type": "execute_result"
    }
   ],
   "source": [
    "# Potência\n",
    "array2**array1"
   ]
  }
 ],
 "metadata": {
  "kernelspec": {
   "display_name": "Python 3 (ipykernel)",
   "language": "python",
   "name": "python3"
  },
  "language_info": {
   "codemirror_mode": {
    "name": "ipython",
    "version": 3
   },
   "file_extension": ".py",
   "mimetype": "text/x-python",
   "name": "python",
   "nbconvert_exporter": "python",
   "pygments_lexer": "ipython3",
   "version": "3.10.9"
  }
 },
 "nbformat": 4,
 "nbformat_minor": 5
}
