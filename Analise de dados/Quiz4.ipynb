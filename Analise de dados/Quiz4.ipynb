{
 "cells": [
  {
   "cell_type": "code",
   "execution_count": 5,
   "id": "ee3176c2",
   "metadata": {},
   "outputs": [
    {
     "data": {
      "text/plain": [
       "array([ 1, 16, 27, 16,  5])"
      ]
     },
     "execution_count": 5,
     "metadata": {},
     "output_type": "execute_result"
    }
   ],
   "source": [
    "import numpy as np\n",
    "\n",
    "lista1 = [1,2,3,4,5]\n",
    "lista2 = [5,4,3,2,1]\n",
    "\n",
    "\n",
    "array1=np.array(lista1)\n",
    "array2=np.array(lista2)\n",
    "\n",
    "array1 ** array2"
   ]
  },
  {
   "cell_type": "code",
   "execution_count": 8,
   "id": "de42653b",
   "metadata": {},
   "outputs": [
    {
     "data": {
      "text/plain": [
       "'1'"
      ]
     },
     "execution_count": 8,
     "metadata": {},
     "output_type": "execute_result"
    }
   ],
   "source": [
    "notas_alunos = np.array([['Bia','Pedro','Jorge'],[8,5,2],[5,4,1],[10,6,3]])\n",
    "\n",
    "notas_alunos[2][2]"
   ]
  },
  {
   "cell_type": "code",
   "execution_count": 13,
   "id": "367628fd",
   "metadata": {},
   "outputs": [
    {
     "data": {
      "text/plain": [
       "10"
      ]
     },
     "execution_count": 13,
     "metadata": {},
     "output_type": "execute_result"
    }
   ],
   "source": [
    "notas_alunos = [[8,5,2],[5,4,1],[10,6,3]]\n",
    "np.mean(notas_alunos[2])\n",
    "np.max(notas_alunos[2])"
   ]
  },
  {
   "cell_type": "code",
   "execution_count": null,
   "id": "89fa98ed",
   "metadata": {},
   "outputs": [],
   "source": []
  }
 ],
 "metadata": {
  "kernelspec": {
   "display_name": "Python 3 (ipykernel)",
   "language": "python",
   "name": "python3"
  },
  "language_info": {
   "codemirror_mode": {
    "name": "ipython",
    "version": 3
   },
   "file_extension": ".py",
   "mimetype": "text/x-python",
   "name": "python",
   "nbconvert_exporter": "python",
   "pygments_lexer": "ipython3",
   "version": "3.10.9"
  }
 },
 "nbformat": 4,
 "nbformat_minor": 5
}
