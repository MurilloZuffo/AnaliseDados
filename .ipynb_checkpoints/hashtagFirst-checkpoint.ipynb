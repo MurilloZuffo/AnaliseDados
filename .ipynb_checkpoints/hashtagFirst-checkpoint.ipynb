{
 "cells": [
  {
   "cell_type": "markdown",
   "id": "083eb82e",
   "metadata": {},
   "source": [
    "Meu primeiro programa Hashtag"
   ]
  },
  {
   "cell_type": "code",
   "execution_count": 2,
   "id": "fbf65e5c",
   "metadata": {},
   "outputs": [
    {
     "name": "stdout",
     "output_type": "stream",
     "text": [
      "La Vamos nos de novo\n"
     ]
    }
   ],
   "source": [
    "print(\"La Vamos nos de novo\")"
   ]
  },
  {
   "cell_type": "markdown",
   "id": "d0108a09",
   "metadata": {},
   "source": [
    "Operacao \"in\" procura dentro do texto "
   ]
  },
  {
   "cell_type": "code",
   "execution_count": 3,
   "id": "a7e709c1",
   "metadata": {},
   "outputs": [
    {
     "name": "stdout",
     "output_type": "stream",
     "text": [
      "False\n"
     ]
    }
   ],
   "source": [
    "print(\"Azul\" in \"amarelo\")"
   ]
  },
  {
   "cell_type": "code",
   "execution_count": 4,
   "id": "102263c0",
   "metadata": {},
   "outputs": [
    {
     "name": "stdout",
     "output_type": "stream",
     "text": [
      "True\n"
     ]
    }
   ],
   "source": [
    "print('Azul' in \"a baleia Azul\")"
   ]
  },
  {
   "cell_type": "code",
   "execution_count": 5,
   "id": "0af42db2",
   "metadata": {},
   "outputs": [
    {
     "name": "stdout",
     "output_type": "stream",
     "text": [
      "o que você acha?legal\n"
     ]
    }
   ],
   "source": [
    "R1 = input(\"o que você acha?\")"
   ]
  },
  {
   "cell_type": "code",
   "execution_count": 6,
   "id": "1acf0fb9",
   "metadata": {},
   "outputs": [
    {
     "name": "stdout",
     "output_type": "stream",
     "text": [
      "legal\n"
     ]
    }
   ],
   "source": [
    "print(R1)"
   ]
  },
  {
   "cell_type": "code",
   "execution_count": null,
   "id": "6c563b16",
   "metadata": {},
   "outputs": [],
   "source": []
  }
 ],
 "metadata": {
  "kernelspec": {
   "display_name": "Python 3 (ipykernel)",
   "language": "python",
   "name": "python3"
  },
  "language_info": {
   "codemirror_mode": {
    "name": "ipython",
    "version": 3
   },
   "file_extension": ".py",
   "mimetype": "text/x-python",
   "name": "python",
   "nbconvert_exporter": "python",
   "pygments_lexer": "ipython3",
   "version": "3.10.9"
  }
 },
 "nbformat": 4,
 "nbformat_minor": 5
}
