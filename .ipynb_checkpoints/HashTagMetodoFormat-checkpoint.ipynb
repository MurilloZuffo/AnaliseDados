{
 "cells": [
  {
   "cell_type": "code",
   "execution_count": 2,
   "id": "685cc2d6",
   "metadata": {},
   "outputs": [
    {
     "name": "stdout",
     "output_type": "stream",
     "text": [
      "o faturamento da loja foi2000 o custo da loja foi 500 então o lucro foi 1500\n"
     ]
    }
   ],
   "source": [
    "faturamento = 2000\n",
    "custo= 500\n",
    "lucro = faturamento - custo\n",
    "\n",
    "print('o faturamento da loja foi' + str(faturamento) + ' o custo da loja foi ' + str(custo) + ' então o lucro foi ' + str(lucro))"
   ]
  },
  {
   "cell_type": "markdown",
   "id": "4998e594",
   "metadata": {},
   "source": [
    "Com metodo Format"
   ]
  },
  {
   "cell_type": "code",
   "execution_count": 4,
   "id": "403d166e",
   "metadata": {},
   "outputs": [
    {
     "name": "stdout",
     "output_type": "stream",
     "text": [
      "o faturamento da loja foi 2000 O custo da loja foi 500 então o lucro foi 1500 \n"
     ]
    }
   ],
   "source": [
    "faturamento = 2000\n",
    "custo= 500\n",
    "lucro = faturamento - custo\n",
    "\n",
    "\n",
    "\n",
    "print('o faturamento da loja foi {} O custo da loja foi {} então o lucro foi {} '.format(faturamento, custo, lucro) )"
   ]
  },
  {
   "cell_type": "code",
   "execution_count": null,
   "id": "33ccc2ad",
   "metadata": {},
   "outputs": [],
   "source": []
  }
 ],
 "metadata": {
  "kernelspec": {
   "display_name": "Python 3 (ipykernel)",
   "language": "python",
   "name": "python3"
  },
  "language_info": {
   "codemirror_mode": {
    "name": "ipython",
    "version": 3
   },
   "file_extension": ".py",
   "mimetype": "text/x-python",
   "name": "python",
   "nbconvert_exporter": "python",
   "pygments_lexer": "ipython3",
   "version": "3.10.9"
  }
 },
 "nbformat": 4,
 "nbformat_minor": 5
}
